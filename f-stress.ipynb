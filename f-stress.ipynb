{
 "cells": [
  {
   "cell_type": "code",
   "execution_count": 1,
   "metadata": {},
   "outputs": [],
   "source": [
    "import ee\n",
    "import geemap"
   ]
  },
  {
   "cell_type": "code",
   "execution_count": 2,
   "metadata": {},
   "outputs": [],
   "source": [
    "import ee\n",
    "service_account = 'r2d2-eihwbo@appspot.gserviceaccount.com'\n",
    "credentials = ee.ServiceAccountCredentials(service_account, 'privatekey.json')\n",
    "ee.Initialize(credentials)"
   ]
  },
  {
   "cell_type": "code",
   "execution_count": 3,
   "metadata": {},
   "outputs": [],
   "source": [
    "collection = ee.ImageCollection(\"COPERNICUS/S2_SR\")\n",
    "#geometry = ee.Geometry.Point(80.15569166816407,12.889524134340943)\n",
    "\n",
    "geometry = ee.Geometry.Polygon([[[76.9159401,10.9925428],\n",
    "                                 [76.9159852,10.9918602],\n",
    "                                 [76.9153301,10.9917714],\n",
    "                                 [76.9152366,10.9924804],\n",
    "                                 [76.9159401,10.9925428]]])\n",
    "geometry1 = ee.Geometry.Polygon(\n",
    "        [[[76.92366482419152, 11.001849863733986],\n",
    "          [76.92441584271569, 11.001934116930132],\n",
    "          [76.92440084322088, 11.001233761505214],\n",
    "          [76.92499355658755, 11.00097842214154],\n",
    "          [76.92574457511172, 11.000883636986831],\n",
    "          [76.9263603793134, 11.000953718315454],\n",
    "          [76.92682171926396, 11.00092475618566],\n",
    "          [76.92795897588627, 11.000922399430593],\n",
    "          [76.92884410486118, 11.00119095725443],\n",
    "          [76.92859401133705, 11.003214509894416],\n",
    "          [76.92837407019783, 11.004215010409895],\n",
    "          [76.92773034003426, 11.004183415708717],\n",
    "          [76.92657162573983, 11.00409916315569],\n",
    "          [76.92539145377327, 11.003941189553833],\n",
    "          [76.92447413829018, 11.003777950076262],\n",
    "          [76.92335833933998, 11.003567318358687]]]);\n",
    "collection = collection.filterBounds(geometry).filterDate('2021-02-01','2021-04-30')\n",
    "geometry2 = [[[76.9159401,10.9925428],[76.9159852,10.9918602],[76.9153301,10.9917714],[76.9152366,10.9924804],[76.9159401,10.9925428]]]"
   ]
  },
  {
   "cell_type": "code",
   "execution_count": 4,
   "metadata": {},
   "outputs": [
    {
     "name": "stdout",
     "output_type": "stream",
     "text": [
      "36\n"
     ]
    }
   ],
   "source": [
    "print(collection.size().getInfo())"
   ]
  },
  {
   "cell_type": "code",
   "execution_count": 5,
   "metadata": {},
   "outputs": [
    {
     "name": "stdout",
     "output_type": "stream",
     "text": [
      "<class 'ee.imagecollection.ImageCollection'>\n"
     ]
    }
   ],
   "source": [
    "print(type(collection))"
   ]
  },
  {
   "cell_type": "code",
   "execution_count": 6,
   "metadata": {},
   "outputs": [],
   "source": [
    "S2CLD = ee.ImageCollection(\"COPERNICUS/S2_CLOUD_PROBABILITY\")\n"
   ]
  },
  {
   "cell_type": "code",
   "execution_count": 7,
   "metadata": {},
   "outputs": [],
   "source": [
    "def clipfunc(image):\n",
    "    return ee.Image(image).clip(geometry);\n",
    "\n",
    "collection = collection.map(clipfunc)\n"
   ]
  },
  {
   "cell_type": "code",
   "execution_count": 8,
   "metadata": {},
   "outputs": [],
   "source": [
    "def setCloudPercent(s2L2AImage):\n",
    "    startDt = ee.Image(s2L2AImage).date()\n",
    "    deltaMinusHour = startDt.advance(-1.0,'hour')\n",
    "    deltaPlusHour = startDt.advance(1.0,'hour')\n",
    "    imgColl = S2CLD.filterDate(deltaMinusHour,deltaPlusHour).filterBounds(geometry)\n",
    "    img = imgColl.first()\n",
    "    imgId = img.get('system:index')\n",
    "    mean = ee.Dictionary(img.reduceRegion(**{\n",
    "        'reducer':ee.Reducer.mean(), \n",
    "        'geometry': geometry,\n",
    "        'scale': 10}))\n",
    "    cloudScore = mean.get('probability')\n",
    "    return s2L2AImage.set({'cloud_score':cloudScore}).set({'S2CLDImageId':imgId})"
   ]
  },
  {
   "cell_type": "code",
   "execution_count": 9,
   "metadata": {},
   "outputs": [],
   "source": [
    "collection = collection.map(setCloudPercent)\n",
    "collection = collection.filter(ee.Filter.lt(\"cloud_score\", 40))"
   ]
  },
  {
   "cell_type": "code",
   "execution_count": 10,
   "metadata": {},
   "outputs": [
    {
     "name": "stdout",
     "output_type": "stream",
     "text": [
      "20\n"
     ]
    }
   ],
   "source": [
    "print(collection.size().getInfo())"
   ]
  },
  {
   "cell_type": "code",
   "execution_count": 11,
   "metadata": {},
   "outputs": [],
   "source": [
    "def setDate(image):\n",
    "    dt = ee.Image(image).date()\n",
    "    dtStr = dt.format(\"dd-MM-YYYY\")\n",
    "    return image.set({'date':dtStr})\n",
    "\n",
    "def removeDuplicateDailyImgId(date):\n",
    "    return imgCollDailyDate.filter(ee.Filter.eq(\"date\", ee.String(date))).first()\n",
    "\n",
    "\n",
    "imgCollDailyDate = collection.map(setDate)\n",
    "imgCollUniqueDt = imgCollDailyDate.aggregate_array('date').distinct()\n",
    "collection = ee.ImageCollection(imgCollUniqueDt.map(removeDuplicateDailyImgId))"
   ]
  },
  {
   "cell_type": "code",
   "execution_count": 12,
   "metadata": {
    "scrolled": false
   },
   "outputs": [
    {
     "name": "stdout",
     "output_type": "stream",
     "text": [
      "10\n"
     ]
    }
   ],
   "source": [
    "print(collection.size().getInfo())\n"
   ]
  },
  {
   "cell_type": "code",
   "execution_count": 13,
   "metadata": {},
   "outputs": [],
   "source": [
    "def ymdList(imgcol):\n",
    "    def iter_func(image, newlist):\n",
    "        date = ee.Number.parse(image.date().format(\"YYYYMMdd\"));\n",
    "        newlist = ee.List(newlist);\n",
    "        return ee.List(newlist.add(date).sort())\n",
    "    ymd = imgcol.iterate(iter_func, ee.List([]))\n",
    "    return list(ee.List(ymd).reduce(ee.Reducer.frequencyHistogram()).getInfo().keys())\n"
   ]
  },
  {
   "cell_type": "code",
   "execution_count": 14,
   "metadata": {},
   "outputs": [],
   "source": [
    "dates  = ymdList(collection)"
   ]
  },
  {
   "cell_type": "code",
   "execution_count": 15,
   "metadata": {},
   "outputs": [
    {
     "data": {
      "text/plain": [
       "['20210202',\n",
       " '20210207',\n",
       " '20210212',\n",
       " '20210227',\n",
       " '20210314',\n",
       " '20210319',\n",
       " '20210324',\n",
       " '20210403',\n",
       " '20210413',\n",
       " '20210428']"
      ]
     },
     "execution_count": 15,
     "metadata": {},
     "output_type": "execute_result"
    }
   ],
   "source": [
    "dates"
   ]
  },
  {
   "cell_type": "code",
   "execution_count": 16,
   "metadata": {},
   "outputs": [],
   "source": [
    "from datetime import date as datet\n",
    "mods = []\n",
    "for i in range (0,len(dates)-1):\n",
    "    adate = dates[i]\n",
    "    bdate = dates[i+1]\n",
    "    d0 = datet(int(adate[0:4]), int(adate[4:6]), int(adate[6:]))\n",
    "    d1 = datet(int(bdate[0:4]), int(bdate[4:6]), int(bdate[6:]))\n",
    "    delta = d1 - d0\n",
    "    mod = (delta.days)//5\n",
    "    mods.append(mod)"
   ]
  },
  {
   "cell_type": "code",
   "execution_count": 17,
   "metadata": {
    "scrolled": true
   },
   "outputs": [
    {
     "data": {
      "text/plain": [
       "[1, 1, 3, 3, 1, 1, 2, 2, 3]"
      ]
     },
     "execution_count": 17,
     "metadata": {},
     "output_type": "execute_result"
    }
   ],
   "source": [
    "mods"
   ]
  },
  {
   "cell_type": "code",
   "execution_count": 18,
   "metadata": {},
   "outputs": [],
   "source": [
    "factor = 0\n",
    "factors = []\n",
    "for mod in mods:\n",
    "    factor = factor + mod\n",
    "    factors.append(factor)\n",
    "        "
   ]
  },
  {
   "cell_type": "code",
   "execution_count": 19,
   "metadata": {},
   "outputs": [
    {
     "data": {
      "text/plain": [
       "[1, 2, 5, 8, 9, 10, 12, 14, 17]"
      ]
     },
     "execution_count": 19,
     "metadata": {},
     "output_type": "execute_result"
    }
   ],
   "source": [
    "factors"
   ]
  },
  {
   "cell_type": "code",
   "execution_count": 20,
   "metadata": {},
   "outputs": [],
   "source": [
    "def areaEqualizer(image):\n",
    "    area = geometry.area(5);\n",
    "    clipped = ee.Image(image).clip(geometry).geometry().area(5);\n",
    "    area_equ = ee.Number(100).subtract(ee.Number(area.subtract(clipped)).divide(area).multiply(ee.Number(100)));\n",
    "    return image.set({\"area_score\":area_equ})"
   ]
  },
  {
   "cell_type": "code",
   "execution_count": 21,
   "metadata": {},
   "outputs": [],
   "source": [
    "collection = collection.map(areaEqualizer)"
   ]
  },
  {
   "cell_type": "code",
   "execution_count": 22,
   "metadata": {},
   "outputs": [],
   "source": [
    "collection = collection.filter(ee.Filter.eq(\"area_score\", ee.Number(100)))\n"
   ]
  },
  {
   "cell_type": "code",
   "execution_count": 23,
   "metadata": {},
   "outputs": [
    {
     "name": "stdout",
     "output_type": "stream",
     "text": [
      "10\n"
     ]
    }
   ],
   "source": [
    "print(collection.size().getInfo())"
   ]
  },
  {
   "cell_type": "code",
   "execution_count": 24,
   "metadata": {},
   "outputs": [
    {
     "name": "stdout",
     "output_type": "stream",
     "text": [
      "['NDVI100']\n"
     ]
    }
   ],
   "source": [
    "def addNDVI100(image):\n",
    "    ndvi = (image.expression(\"((b8 - b4) / (b8 + b4)) * (100)\",{\n",
    "    \"b8\": image.select(\"B8\"),\n",
    "    \"b4\": image.select(\"B4\")\n",
    "    })).toInt().rename('NDVI100')\n",
    "    return image.addBands(ndvi) \n",
    "\n",
    "\n",
    "\n",
    "collection = collection.map(addNDVI100)\n",
    "collection100 = collection.select('NDVI100')\n",
    "\n",
    "first = collection100.first()\n",
    "\n",
    "\n",
    "bandNames = first.bandNames()\n",
    "print(bandNames.getInfo())"
   ]
  },
  {
   "cell_type": "code",
   "execution_count": 25,
   "metadata": {},
   "outputs": [
    {
     "name": "stdout",
     "output_type": "stream",
     "text": [
      "10\n"
     ]
    }
   ],
   "source": [
    "print(collection100.size().getInfo())"
   ]
  },
  {
   "cell_type": "code",
   "execution_count": 26,
   "metadata": {},
   "outputs": [],
   "source": [
    "collList = collection100.toList(collection100.size())\n",
    "img1 = ee.Image()\n"
   ]
  },
  {
   "cell_type": "code",
   "execution_count": 27,
   "metadata": {},
   "outputs": [
    {
     "name": "stdout",
     "output_type": "stream",
     "text": [
      "10\n"
     ]
    }
   ],
   "source": [
    "print(collection.size().getInfo())"
   ]
  },
  {
   "cell_type": "code",
   "execution_count": 28,
   "metadata": {},
   "outputs": [],
   "source": [
    "def calcFImage(img1,img2,fmult):\n",
    "    fmult = ee.Number(fmult)\n",
    "    img1 = ee.Image(img1)\n",
    "    img2 = ee.Image(img2)\n",
    "    eImg = img1.eq(img2)\n",
    "    rcImg = img1.subtract(img2)\n",
    "    collectionFromImages = ee.ImageCollection.fromImages([img1, img2])\n",
    "    maxImg = collectionFromImages.select('NDVI100').max()\n",
    "    lImg = maxImg.neq(img2)\n",
    "    lrc = rcImg.multiply(lImg)\n",
    "    lrc = lrc.add(eImg)\n",
    "    constImg = ee.Image(fmult).rename(\"NDVI100\").clip(geometry)\n",
    "    mlrc = lrc.multiply(constImg).toInt()\n",
    "    return mlrc\n",
    "    \n",
    "    \n",
    "def calcMean(zip_list):\n",
    "    zip_list = ee.List(zip_list) \n",
    "    fmult = zip_list.get(1)\n",
    "    i = ee.Number(zip_list.get(0))\n",
    "    firsti = i.subtract(1)\n",
    "    img1=ee.Image(collList.get(firsti)) \n",
    "    img2=ee.Image(collList.get(i))\n",
    "    binImage = calcFImage(img1,img2,fmult)\n",
    "    return binImage\n",
    "\n",
    "\n",
    "\n",
    "    \n",
    "\n",
    "def calc(i):\n",
    "    i = ee.Number(i)\n",
    "    firsti = i.subtract(1)\n",
    "    img1=ee.Image(collList.get(firsti)) \n",
    "    img2=ee.Image(collList.get(i))\n",
    "    date1 = ee.Date(img1.date().format(\"YYYY-MM-dd\"))\n",
    "    date2 = ee.Date(img2.date().format(\"YYYY-MM-dd\"))\n",
    "    diff = ee.Number(date2.difference(date1,'day'))\n",
    "    mod = diff.divide(5)\n",
    "    #diff = abs(date2-date1.days)\n",
    "    \"\"\"d1 = date(int(adate[0:4]), int(adate[4:6]), int(adate[6:]))\n",
    "    d2 = date(int(bdate[0:4]), int(bdate[4:6]), int(bdate[6:]))\n",
    "    delta = d2 - d1\"\"\"\n",
    "    return mod\n"
   ]
  },
  {
   "cell_type": "code",
   "execution_count": 29,
   "metadata": {},
   "outputs": [],
   "source": [
    "finImgCollList = ee.List.sequence(1,collList.size().subtract(1),1).map(calc)\n"
   ]
  },
  {
   "cell_type": "code",
   "execution_count": 30,
   "metadata": {},
   "outputs": [
    {
     "name": "stdout",
     "output_type": "stream",
     "text": [
      "[1, 1, 3, 3, 1, 1, 2, 2, 3]\n"
     ]
    }
   ],
   "source": [
    "print(finImgCollList.getInfo())"
   ]
  },
  {
   "cell_type": "code",
   "execution_count": 31,
   "metadata": {
    "scrolled": true
   },
   "outputs": [
    {
     "data": {
      "text/plain": [
       "'finImgCollList = ee.List.sequence(1,collList.size().subtract(1),1).map(calcMean)\\ncollfin = ee.ImageCollection(finImgCollList)'"
      ]
     },
     "execution_count": 31,
     "metadata": {},
     "output_type": "execute_result"
    }
   ],
   "source": [
    "\"\"\"finImgCollList = ee.List.sequence(1,collList.size().subtract(1),1).map(calcMean)\n",
    "collfin = ee.ImageCollection(finImgCollList)\"\"\""
   ]
  },
  {
   "cell_type": "code",
   "execution_count": 32,
   "metadata": {
    "scrolled": true
   },
   "outputs": [],
   "source": [
    "x = ee.List.sequence(1,collList.size().subtract(1),1)\n",
    "seq = list(range(1,collList.size().getInfo()))\n",
    "merged_list = ee.List(tuple(zip(seq, factors))) \n",
    "finImgCollList = merged_list.map(calcMean)"
   ]
  },
  {
   "cell_type": "code",
   "execution_count": 33,
   "metadata": {},
   "outputs": [],
   "source": [
    "#gg = ee.List.sequence(1,collList.size().subtract(1),1).map(calc)"
   ]
  },
  {
   "cell_type": "code",
   "execution_count": 34,
   "metadata": {},
   "outputs": [],
   "source": [
    "collfin = ee.ImageCollection(finImgCollList)"
   ]
  },
  {
   "cell_type": "code",
   "execution_count": 35,
   "metadata": {},
   "outputs": [
    {
     "name": "stdout",
     "output_type": "stream",
     "text": [
      "9\n"
     ]
    }
   ],
   "source": [
    "print(collfin.size().getInfo())"
   ]
  },
  {
   "cell_type": "code",
   "execution_count": 36,
   "metadata": {},
   "outputs": [],
   "source": [
    "finalImg = collfin.sum()"
   ]
  },
  {
   "cell_type": "code",
   "execution_count": 37,
   "metadata": {},
   "outputs": [],
   "source": [
    "minNdvi = ee.Number(finalImg.select(\"NDVI100\").reduceRegion(**{\n",
    "     'reducer': ee.Reducer.min(),\n",
    "    'geometry':geometry,\n",
    "     'scale': 10,\n",
    "     'maxPixels': 1e9\n",
    "     }).values().get(0));\n",
    "finalImg=finalImg.set({\"minNdvi\":minNdvi})\n",
    "\n",
    "maxNdvi = ee.Number(finalImg.select(\"NDVI100\").reduceRegion(**{\n",
    "     'reducer': ee.Reducer.max(),\n",
    "    'geometry':geometry,\n",
    "     'scale': 10,\n",
    "     'maxPixels': 1e9\n",
    "     }).values().get(0));\n",
    "finalImg=finalImg.set({\"maxNdvi\":maxNdvi})"
   ]
  },
  {
   "cell_type": "code",
   "execution_count": 38,
   "metadata": {
    "scrolled": true
   },
   "outputs": [
    {
     "name": "stdout",
     "output_type": "stream",
     "text": [
      "129\n",
      "394\n"
     ]
    }
   ],
   "source": [
    "print(minNdvi.getInfo())\n",
    "print(maxNdvi.getInfo())"
   ]
  },
  {
   "cell_type": "code",
   "execution_count": 39,
   "metadata": {},
   "outputs": [
    {
     "data": {
      "text/plain": [
       "'norm =(((finalImg.select(\"NDVI100\").subtract(minNdvi))).divide((maxNdvi.subtract(minNdvi)))).rename(\\'norm\\')\\nfinalImg = finalImg.addBands(norm)'"
      ]
     },
     "execution_count": 39,
     "metadata": {},
     "output_type": "execute_result"
    }
   ],
   "source": [
    "def addnorm(image):\n",
    "    norm = (image.expression(\"((ndvi-min)/(max-min))*10\",{\n",
    "    \"ndvi\": image.select(\"NDVI100\"),\n",
    "    \"min\":minNdvi,\n",
    "    \"max\":maxNdvi\n",
    "    })).toInt().rename('norm')\n",
    "    return image.addBands(norm) \n",
    "finalImg = addnorm(finalImg)\n",
    "\n",
    "\n",
    "\"\"\"norm =(((finalImg.select(\"NDVI100\").subtract(minNdvi))).divide((maxNdvi.subtract(minNdvi)))).rename('norm')\n",
    "finalImg = finalImg.addBands(norm)\"\"\""
   ]
  },
  {
   "cell_type": "code",
   "execution_count": 40,
   "metadata": {},
   "outputs": [
    {
     "name": "stdout",
     "output_type": "stream",
     "text": [
      "{'type': 'Image', 'bands': [{'id': 'NDVI100', 'data_type': {'type': 'PixelType', 'precision': 'int', 'min': 5, 'max': 5}, 'dimensions': [1, 1], 'origin': [76, 10], 'crs': 'EPSG:4326', 'crs_transform': [1, 0, 0, 0, 1, 0]}], 'properties': {'system:footprint': {'type': 'Polygon', 'coordinates': [[[76.9159401, 10.9925428], [76.9152366, 10.9924804], [76.9153301, 10.9917714], [76.9159852, 10.9918602], [76.9159401, 10.9925428]]]}}}\n"
     ]
    }
   ],
   "source": [
    "const = ee.Image(5).rename(\"NDVI100\").clip(geometry)\n",
    "print(const.getInfo())"
   ]
  },
  {
   "cell_type": "code",
   "execution_count": 41,
   "metadata": {
    "scrolled": true
   },
   "outputs": [
    {
     "name": "stdout",
     "output_type": "stream",
     "text": [
      "{'type': 'Image', 'bands': [{'id': 'NDVI100', 'data_type': {'type': 'PixelType', 'precision': 'int', 'min': -9.223372036854776e+18, 'max': 9.223372036854776e+18}, 'crs': 'EPSG:4326', 'crs_transform': [1, 0, 0, 0, 1, 0]}, {'id': 'norm', 'data_type': {'type': 'PixelType', 'precision': 'int', 'min': -2147483648, 'max': 2147483647}, 'crs': 'EPSG:4326', 'crs_transform': [1, 0, 0, 0, 1, 0]}], 'properties': {'maxNdvi': 394, 'minNdvi': 129}}\n"
     ]
    }
   ],
   "source": [
    "print(finalImg.getInfo())"
   ]
  },
  {
   "cell_type": "code",
   "execution_count": 42,
   "metadata": {},
   "outputs": [],
   "source": [
    "finalImg = finalImg.clip(geometry)\n",
    "finalImgnd = finalImg.select(\"NDVI100\")\n",
    "finalImg = finalImg.select(\"norm\")\n"
   ]
  },
  {
   "cell_type": "code",
   "execution_count": 43,
   "metadata": {},
   "outputs": [
    {
     "name": "stdout",
     "output_type": "stream",
     "text": [
      "{'type': 'Image', 'bands': [{'id': 'NDVI100', 'data_type': {'type': 'PixelType', 'precision': 'int', 'min': -9.223372036854776e+18, 'max': 9.223372036854776e+18}, 'dimensions': [1, 1], 'origin': [76, 10], 'crs': 'EPSG:4326', 'crs_transform': [1, 0, 0, 0, 1, 0]}], 'properties': {'maxNdvi': 394, 'system:footprint': {'type': 'Polygon', 'coordinates': [[[76.9159401, 10.9925428], [76.9152366, 10.9924804], [76.9153301, 10.9917714], [76.9159852, 10.9918602], [76.9159401, 10.9925428]]]}, 'minNdvi': 129}}\n"
     ]
    }
   ],
   "source": [
    "print(finalImgnd.getInfo())"
   ]
  },
  {
   "cell_type": "code",
   "execution_count": 44,
   "metadata": {},
   "outputs": [],
   "source": [
    "finalImg1 = finalImg.select(\"norm\")"
   ]
  },
  {
   "cell_type": "code",
   "execution_count": 45,
   "metadata": {},
   "outputs": [],
   "source": [
    "finalImg1 = finalImg1.focal_median(1, 'square')"
   ]
  },
  {
   "cell_type": "code",
   "execution_count": 46,
   "metadata": {},
   "outputs": [],
   "source": [
    "vector = finalImg.toInt().reduceToVectors(scale = 10)"
   ]
  },
  {
   "cell_type": "code",
   "execution_count": 47,
   "metadata": {},
   "outputs": [],
   "source": [
    "def setArea(feature):\n",
    "    feature=ee.Feature(feature)\n",
    "    area=feature.area(5)\n",
    "    feature =feature.set(\"area\",area)\n",
    "    return feature\n",
    "arVector = vector.map(setArea)"
   ]
  },
  {
   "cell_type": "code",
   "execution_count": 48,
   "metadata": {
    "scrolled": true
   },
   "outputs": [
    {
     "name": "stdout",
     "output_type": "stream",
     "text": [
      "{'type': 'FeatureCollection', 'columns': {'area': 'Float', 'count': 'Long<0, 4294967295>', 'label': 'Integer', 'system:index': 'String'}, 'features': [{'type': 'Feature', 'geometry': {'geodesic': False, 'type': 'Polygon', 'coordinates': [[[76.91528176229643, 10.991785816486464], [76.91537159382484, 10.991785816486464], [76.91537159382484, 10.991965479543289], [76.91528176229643, 10.991965479543289], [76.91528176229643, 10.991785816486464]]]}, 'id': '+856217+122361', 'properties': {'area': 195.89215324580599, 'count': 2, 'label': 4}}, {'type': 'Feature', 'geometry': {'geodesic': False, 'type': 'Polygon', 'coordinates': [[[76.91528176229643, 10.991965479543289], [76.91537159382484, 10.991965479543289], [76.91537159382484, 10.9920553110717], [76.91528176229643, 10.9920553110717], [76.91528176229643, 10.991965479543289]]]}, 'id': '+856217+122362', 'properties': {'area': 97.94603187963067, 'count': 1, 'label': 5}}, {'type': 'Feature', 'geometry': {'geodesic': False, 'type': 'Polygon', 'coordinates': [[[76.91528176229643, 10.9920553110717], [76.91537159382484, 10.9920553110717], [76.91537159382484, 10.992145142600112], [76.91528176229643, 10.992145142600112], [76.91528176229643, 10.9920553110717]]]}, 'id': '+856217+122363', 'properties': {'area': 97.94600205122285, 'count': 1, 'label': 6}}, {'type': 'Feature', 'geometry': {'geodesic': False, 'type': 'Polygon', 'coordinates': [[[76.91528176229643, 10.992145142600112], [76.91537159382484, 10.992145142600112], [76.91537159382484, 10.992234974128525], [76.91528176229643, 10.992234974128525], [76.91528176229643, 10.992145142600112]]]}, 'id': '+856217+122364', 'properties': {'area': 97.94597222399949, 'count': 1, 'label': 5}}, {'type': 'Feature', 'geometry': {'geodesic': False, 'type': 'Polygon', 'coordinates': [[[76.91528176229643, 10.992324805656937], [76.91537159382484, 10.992324805656937], [76.91537159382484, 10.99250446871376], [76.91528176229643, 10.99250446871376], [76.91528176229643, 10.992324805656937]]]}, 'id': '+856217+122367', 'properties': {'area': 195.8917953049291, 'count': 2, 'label': 0}}, {'type': 'Feature', 'geometry': {'geodesic': False, 'type': 'Polygon', 'coordinates': [[[76.91537159382484, 10.991785816486464], [76.91546142535326, 10.991785816486464], [76.91546142535326, 10.991875648014878], [76.91537159382484, 10.991875648014878], [76.91537159382484, 10.991785816486464]]]}, 'id': '+856218+122360', 'properties': {'area': 97.94609155009486, 'count': 1, 'label': 2}}, {'type': 'Feature', 'geometry': {'geodesic': False, 'type': 'Polygon', 'coordinates': [[[76.91537159382484, 10.9920553110717], [76.91537159382484, 10.991875648014878], [76.91546142535326, 10.991875648014878], [76.91546142535326, 10.991785816486464], [76.91555125688167, 10.991785816486464], [76.91555125688167, 10.991875648014878], [76.91546142535326, 10.991875648014878], [76.91546142535326, 10.9920553110717], [76.91537159382484, 10.9920553110717]]]}, 'id': '+856218+122362', 'properties': {'area': 293.8381851519925, 'count': 3, 'label': 3}}, {'type': 'Feature', 'geometry': {'geodesic': False, 'type': 'Polygon', 'coordinates': [[[76.91537159382484, 10.9920553110717], [76.91546142535326, 10.9920553110717], [76.91546142535326, 10.992145142600112], [76.91537159382484, 10.992145142600112], [76.91537159382484, 10.9920553110717]]]}, 'id': '+856218+122363', 'properties': {'area': 97.94600206258374, 'count': 1, 'label': 2}}, {'type': 'Feature', 'geometry': {'geodesic': False, 'type': 'Polygon', 'coordinates': [[[76.91537159382484, 10.992324805656937], [76.91537159382484, 10.992234974128525], [76.91546142535326, 10.992234974128525], [76.91546142535326, 10.992145142600112], [76.91555125688167, 10.992145142600112], [76.91555125688167, 10.992234974128525], [76.91546142535326, 10.992234974128525], [76.91546142535326, 10.992324805656937], [76.91537159382484, 10.992324805656937]]]}, 'id': '+856218+122365', 'properties': {'area': 195.891914636953, 'count': 2, 'label': 3}}, {'type': 'Feature', 'geometry': {'geodesic': False, 'type': 'Polygon', 'coordinates': [[[76.91537159382484, 10.99250446871376], [76.91537159382484, 10.992324805656937], [76.91528176229643, 10.992324805656937], [76.91528176229643, 10.992234974128525], [76.91537159382484, 10.992234974128525], [76.91537159382484, 10.992145142600112], [76.91546142535326, 10.992145142600112], [76.91546142535326, 10.992234974128525], [76.91555125688167, 10.992234974128525], [76.91555125688167, 10.992414637185348], [76.91546142535326, 10.992414637185348], [76.91546142535326, 10.99250446871376], [76.91537159382484, 10.99250446871376]], [[76.91546142535326, 10.992324805656937], [76.91537159382484, 10.992324805656937], [76.91537159382484, 10.992234974128525], [76.91546142535326, 10.992234974128525], [76.91546142535326, 10.992324805656937]]]}, 'id': '+856218+122367', 'properties': {'area': 587.6755649211142, 'count': 6, 'label': 1}}, {'type': 'Feature', 'geometry': {'geodesic': False, 'type': 'Polygon', 'coordinates': [[[76.91546142535326, 10.991875648014878], [76.91555125688167, 10.991875648014878], [76.91555125688167, 10.9920553110717], [76.91546142535326, 10.9920553110717], [76.91546142535326, 10.991875648014878]]]}, 'id': '+856219+122362', 'properties': {'area': 195.89209359080235, 'count': 2, 'label': 6}}, {'type': 'Feature', 'geometry': {'geodesic': False, 'type': 'Polygon', 'coordinates': [[[76.91555125688167, 10.991785816486464], [76.91564108841008, 10.991785816486464], [76.91564108841008, 10.991875648014878], [76.91555125688167, 10.991875648014878], [76.91555125688167, 10.991785816486464]]]}, 'id': '+856220+122360', 'properties': {'area': 97.94609153552179, 'count': 1, 'label': 5}}, {'type': 'Feature', 'geometry': {'geodesic': False, 'type': 'Polygon', 'coordinates': [[[76.91555125688167, 10.991875648014878], [76.91564108841008, 10.991875648014878], [76.91564108841008, 10.991965479543289], [76.91555125688167, 10.991965479543289], [76.91555125688167, 10.991875648014878]]]}, 'id': '+856220+122361', 'properties': {'area': 97.94606170945559, 'count': 1, 'label': 10}}, {'type': 'Feature', 'geometry': {'geodesic': False, 'type': 'Polygon', 'coordinates': [[[76.91546142535326, 10.9920553110717], [76.91564108841008, 10.9920553110717], [76.91564108841008, 10.992145142600112], [76.91546142535326, 10.992145142600112], [76.91546142535326, 10.9920553110717]]]}, 'id': '+856220+122363', 'properties': {'area': 195.8920041009978, 'count': 2, 'label': 5}}, {'type': 'Feature', 'geometry': {'geodesic': False, 'type': 'Polygon', 'coordinates': [[[76.91555125688167, 10.992145142600112], [76.91564108841008, 10.992145142600112], [76.91564108841008, 10.992234974128525], [76.91555125688167, 10.992234974128525], [76.91555125688167, 10.992145142600112]]]}, 'id': '+856220+122364', 'properties': {'area': 97.9459722252682, 'count': 1, 'label': 4}}, {'type': 'Feature', 'geometry': {'geodesic': False, 'type': 'Polygon', 'coordinates': [[[76.91555125688167, 10.992234974128525], [76.91564108841008, 10.992234974128525], [76.91564108841008, 10.992324805656937], [76.91555125688167, 10.992324805656937], [76.91555125688167, 10.992234974128525]]]}, 'id': '+856220+122365', 'properties': {'area': 97.94594239645637, 'count': 1, 'label': 2}}, {'type': 'Feature', 'geometry': {'geodesic': False, 'type': 'Polygon', 'coordinates': [[[76.91546142535326, 10.99250446871376], [76.91546142535326, 10.992414637185348], [76.91555125688167, 10.992414637185348], [76.91555125688167, 10.992324805656937], [76.91564108841008, 10.992324805656937], [76.91564108841008, 10.99250446871376], [76.91546142535326, 10.99250446871376]]]}, 'id': '+856220+122367', 'properties': {'area': 293.8376924103807, 'count': 3, 'label': 0}}, {'type': 'Feature', 'geometry': {'geodesic': False, 'type': 'Polygon', 'coordinates': [[[76.91564108841008, 10.9920553110717], [76.9157309199385, 10.9920553110717], [76.9157309199385, 10.992145142600112], [76.91564108841008, 10.992145142600112], [76.91564108841008, 10.9920553110717]]]}, 'id': '+856221+122363', 'properties': {'area': 97.94600205013182, 'count': 1, 'label': 7}}, {'type': 'Feature', 'geometry': {'geodesic': False, 'type': 'Polygon', 'coordinates': [[[76.91564108841008, 10.992414637185348], [76.91564108841008, 10.992234974128525], [76.91582075146691, 10.992234974128525], [76.91582075146691, 10.992324805656937], [76.9157309199385, 10.992324805656937], [76.9157309199385, 10.992414637185348], [76.91564108841008, 10.992414637185348]]]}, 'id': '+856221+122366', 'properties': {'area': 293.8377829987317, 'count': 3, 'label': 3}}, {'type': 'Feature', 'geometry': {'geodesic': False, 'type': 'Polygon', 'coordinates': [[[76.91564108841008, 10.992414637185348], [76.9157309199385, 10.992414637185348], [76.9157309199385, 10.99250446871376], [76.91564108841008, 10.99250446871376], [76.91564108841008, 10.992414637185348]]]}, 'id': '+856221+122367', 'properties': {'area': 97.94588273695761, 'count': 1, 'label': 1}}, {'type': 'Feature', 'geometry': {'geodesic': False, 'type': 'Polygon', 'coordinates': [[[76.91564108841008, 10.992234974128525], [76.91564108841008, 10.992145142600112], [76.9157309199385, 10.992145142600112], [76.9157309199385, 10.9920553110717], [76.91582075146691, 10.9920553110717], [76.91582075146691, 10.992234974128525], [76.91564108841008, 10.992234974128525]]]}, 'id': '+856222+122364', 'properties': {'area': 293.837960904847, 'count': 3, 'label': 6}}, {'type': 'Feature', 'geometry': {'geodesic': False, 'type': 'Polygon', 'coordinates': [[[76.9157309199385, 10.992414637185348], [76.9157309199385, 10.992324805656937], [76.91582075146691, 10.992324805656937], [76.91582075146691, 10.992234974128525], [76.91591058299531, 10.992234974128525], [76.91591058299531, 10.992324805656937], [76.91582075146691, 10.992324805656937], [76.91582075146691, 10.992414637185348], [76.9157309199385, 10.992414637185348]]]}, 'id': '+856222+122366', 'properties': {'area': 195.8918549586468, 'count': 2, 'label': 4}}, {'type': 'Feature', 'geometry': {'geodesic': False, 'type': 'Polygon', 'coordinates': [[[76.9157309199385, 10.991965479543289], [76.9157309199385, 10.991875648014878], [76.91564108841008, 10.991875648014878], [76.91564108841008, 10.991785816486464], [76.9157309199385, 10.991785816486464], [76.9157309199385, 10.991875648014878], [76.91591058299531, 10.991875648014878], [76.91591058299531, 10.991965479543289], [76.9157309199385, 10.991965479543289]]]}, 'id': '+856223+122361', 'properties': {'area': 293.83821494993475, 'count': 3, 'label': 6}}, {'type': 'Feature', 'geometry': {'geodesic': False, 'type': 'Polygon', 'coordinates': [[[76.91555125688167, 10.9920553110717], [76.91555125688167, 10.991965479543289], [76.91564108841008, 10.991965479543289], [76.91564108841008, 10.991875648014878], [76.9157309199385, 10.991875648014878], [76.9157309199385, 10.991965479543289], [76.91591058299531, 10.991965479543289], [76.91591058299531, 10.9920553110717], [76.91555125688167, 10.9920553110717]]]}, 'id': '+856223+122362', 'properties': {'area': 489.73031857029747, 'count': 5, 'label': 8}}, {'type': 'Feature', 'geometry': {'geodesic': False, 'type': 'Polygon', 'coordinates': [[[76.91582075146691, 10.9920553110717], [76.91591058299531, 10.9920553110717], [76.91591058299531, 10.992234974128525], [76.91582075146691, 10.992234974128525], [76.91582075146691, 10.9920553110717]]]}, 'id': '+856223+122364', 'properties': {'area': 195.89197424733368, 'count': 2, 'label': 5}}, {'type': 'Feature', 'geometry': {'geodesic': False, 'type': 'Polygon', 'coordinates': [[[76.91582075146691, 10.992414637185348], [76.91582075146691, 10.992324805656937], [76.91591058299531, 10.992324805656937], [76.91591058299531, 10.992234974128525], [76.91600041452372, 10.992234974128525], [76.91600041452372, 10.992324805656937], [76.91591058299531, 10.992324805656937], [76.91591058299531, 10.992414637185348], [76.91582075146691, 10.992414637185348]]]}, 'id': '+856223+122366', 'properties': {'area': 195.89185494359538, 'count': 2, 'label': 6}}, {'type': 'Feature', 'geometry': {'geodesic': False, 'type': 'Polygon', 'coordinates': [[[76.9157309199385, 10.992414637185348], [76.91591058299531, 10.992414637185348], [76.91591058299531, 10.99250446871376], [76.9157309199385, 10.99250446871376], [76.9157309199385, 10.992414637185348]]]}, 'id': '+856223+122367', 'properties': {'area': 195.89176547442202, 'count': 2, 'label': 2}}, {'type': 'Feature', 'geometry': {'geodesic': False, 'type': 'Polygon', 'coordinates': [[[76.91591058299531, 10.991875648014878], [76.91600041452372, 10.991875648014878], [76.91600041452372, 10.991965479543289], [76.91591058299531, 10.991965479543289], [76.91591058299531, 10.991875648014878]]]}, 'id': '+856224+122361', 'properties': {'area': 97.94606170957124, 'count': 1, 'label': 7}}, {'type': 'Feature', 'geometry': {'geodesic': False, 'type': 'Polygon', 'coordinates': [[[76.91591058299531, 10.991965479543289], [76.91600041452372, 10.991965479543289], [76.91600041452372, 10.992145142600112], [76.91591058299531, 10.992145142600112], [76.91591058299531, 10.991965479543289]]]}, 'id': '+856224+122363', 'properties': {'area': 195.89203392693588, 'count': 2, 'label': 9}}, {'type': 'Feature', 'geometry': {'geodesic': False, 'type': 'Polygon', 'coordinates': [[[76.91591058299531, 10.992145142600112], [76.91600041452372, 10.992145142600112], [76.91600041452372, 10.992234974128525], [76.91591058299531, 10.992234974128525], [76.91591058299531, 10.992145142600112]]]}, 'id': '+856224+122364', 'properties': {'area': 97.94597222264495, 'count': 1, 'label': 8}}]}\n"
     ]
    }
   ],
   "source": [
    "print(arVector.getInfo())"
   ]
  },
  {
   "cell_type": "code",
   "execution_count": 49,
   "metadata": {},
   "outputs": [],
   "source": [
    "taskConfig = {\n",
    "                \"folder\": \"stress_csv\",\n",
    "                \"description\": \"hello\",\n",
    "                \"collection\": arVector,\n",
    "                \"fileNamePrefix\": '2021-04-29',\n",
    "                \"fileFormat\": 'CSV'\n",
    "                \n",
    "            }\n",
    "task = ee.batch.Export.table.toDrive(**taskConfig)\n",
    "task.start()"
   ]
  },
  {
   "cell_type": "code",
   "execution_count": 55,
   "metadata": {},
   "outputs": [
    {
     "data": {
      "text/plain": [
       "{'state': 'COMPLETED',\n",
       " 'description': 'hello',\n",
       " 'creation_timestamp_ms': 1637441363095,\n",
       " 'update_timestamp_ms': 1637441382821,\n",
       " 'start_timestamp_ms': 1637441373837,\n",
       " 'task_type': 'EXPORT_FEATURES',\n",
       " 'destination_uris': ['https://drive.google.com/#folders/1N1LWwQw752ma-FZDpsOi2GLFu3iu_hVN'],\n",
       " 'attempt': 1,\n",
       " 'id': 'LF4P7QSW6OA43IBLR2ZKYF7R',\n",
       " 'name': 'projects/earthengine-legacy/operations/LF4P7QSW6OA43IBLR2ZKYF7R'}"
      ]
     },
     "execution_count": 55,
     "metadata": {},
     "output_type": "execute_result"
    }
   ],
   "source": [
    "task.status()"
   ]
  },
  {
   "cell_type": "code",
   "execution_count": 54,
   "metadata": {},
   "outputs": [
    {
     "data": {
      "application/vnd.jupyter.widget-view+json": {
       "model_id": "4ced37741010451eb2337ce6f3e20f5c",
       "version_major": 2,
       "version_minor": 0
      },
      "text/plain": [
       "Map(center=[10.9925428, 76.9159401], controls=(WidgetControl(options=['position', 'transparent_bg'], widget=HB…"
      ]
     },
     "metadata": {},
     "output_type": "display_data"
    }
   ],
   "source": [
    "Map = geemap.Map(center=[10.9925428,76.9159401], zoom=18)\n",
    "\n",
    "#Map.addLayer(finalImg.select(\"NDVI100\"),{}, 'finalImage100')\n",
    "Map.addLayer(collection.select(\"NDVI100\"),{'min':0,'max':10}, 'finalImagenorm')\n",
    "Map.addLayer(finalImgnd,{}, 'ffin')\n",
    "#Map.addLayer(const,{}, 'const')\n",
    "Map.addLayerControl() # This line is not needed for ipyleaflet-based Map.\n",
    "Map"
   ]
  },
  {
   "cell_type": "code",
   "execution_count": 52,
   "metadata": {},
   "outputs": [
    {
     "name": "stdout",
     "output_type": "stream",
     "text": [
      "1\n",
      "2\n",
      "3\n",
      "1\n",
      "2\n",
      "3\n",
      "1\n",
      "2\n",
      "3\n",
      "1\n",
      "2\n",
      "3\n",
      "1\n",
      "2\n",
      "3\n",
      "1\n",
      "2\n",
      "3\n",
      "1\n",
      "2\n",
      "3\n",
      "1\n",
      "2\n",
      "3\n",
      "1\n",
      "2\n",
      "3\n"
     ]
    }
   ],
   "source": [
    "for i in range (1,10):\n",
    "    for j in range (1,10):\n",
    "        if j%4==0:\n",
    "            break\n",
    "        else:\n",
    "            print(j)"
   ]
  },
  {
   "cell_type": "code",
   "execution_count": 21,
   "metadata": {},
   "outputs": [],
   "source": [
    "Map = geemap.Map(center=[10.9925428,76.9159401], zoom=18)"
   ]
  },
  {
   "cell_type": "code",
   "execution_count": null,
   "metadata": {},
   "outputs": [],
   "source": []
  }
 ],
 "metadata": {
  "kernelspec": {
   "display_name": "Python 3",
   "language": "python",
   "name": "python3"
  },
  "language_info": {
   "codemirror_mode": {
    "name": "ipython",
    "version": 3
   },
   "file_extension": ".py",
   "mimetype": "text/x-python",
   "name": "python",
   "nbconvert_exporter": "python",
   "pygments_lexer": "ipython3",
   "version": "3.8.8"
  }
 },
 "nbformat": 4,
 "nbformat_minor": 4
}
